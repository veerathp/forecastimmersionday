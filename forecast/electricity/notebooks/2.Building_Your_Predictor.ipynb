{
 "cells": [
  {
   "cell_type": "markdown",
   "metadata": {},
   "source": [
    "# Building Your Predictor\n",
    "\n",
    "The next step after preparing and importing your data via `Getting_Data_Ready.ipynb` is to build your first model.\n",
    "\n",
    "The overall process for this is:\n",
    "\n",
    "* Setup\n",
    "* Create a Predictor\n",
    "* Deploy a Predictor\n",
    "* Obtain a Forecast\n",
    "\n",
    "To get started, simply execute the cells below:\n"
   ]
  },
  {
   "cell_type": "markdown",
   "metadata": {},
   "source": [
    "## Setup\n"
   ]
  },
  {
   "cell_type": "markdown",
   "metadata": {},
   "source": [
    "Import the standard Python Libraries that are used in this lesson."
   ]
  },
  {
   "cell_type": "code",
   "execution_count": 5,
   "metadata": {},
   "outputs": [],
   "source": [
    "import boto3\n",
    "from time import sleep\n",
    "import subprocess\n",
    "import pandas as pd\n",
    "import json\n",
    "import time"
   ]
  },
  {
   "cell_type": "markdown",
   "metadata": {},
   "source": [
    "The last part of the setup process is to validate that your account can communicate with Amazon Forecast, the cell below does just that."
   ]
  },
  {
   "cell_type": "code",
   "execution_count": 6,
   "metadata": {},
   "outputs": [],
   "source": [
    "session = boto3.Session(region_name='us-east-1') \n",
    "forecast = session.client(service_name='forecast') \n",
    "forecastquery = session.client(service_name='forecastquery')"
   ]
  },
  {
   "cell_type": "markdown",
   "metadata": {},
   "source": [
    "## Create a Predictor\n",
    "\n",
    "Now in the previous notebook, your data was imported to be used by Forecast, here we will once again define your dataset information and then start building your model or predictor."
   ]
  },
  {
   "cell_type": "markdown",
   "metadata": {},
   "source": [
    "Forecast horizon is the number of number of time points to predicted in the future. For weekly data, a value of 12 means 12 weeks. Our example is hourly data, we try forecast the next day, so we can set to 24."
   ]
  },
  {
   "cell_type": "code",
   "execution_count": 9,
   "metadata": {},
   "outputs": [],
   "source": [
    "project = 'electric_power_forecastdemo' # This should be the same as your previous notebook"
   ]
  },
  {
   "cell_type": "code",
   "execution_count": 10,
   "metadata": {},
   "outputs": [],
   "source": [
    "predictorName= project+'_prophet_algo'"
   ]
  },
  {
   "cell_type": "code",
   "execution_count": 11,
   "metadata": {},
   "outputs": [],
   "source": [
    "forecastHorizon = 24"
   ]
  },
  {
   "cell_type": "code",
   "execution_count": 12,
   "metadata": {},
   "outputs": [],
   "source": [
    "algorithmArn = 'arn:aws:forecast:::algorithm/Prophet'"
   ]
  },
  {
   "cell_type": "code",
   "execution_count": 13,
   "metadata": {},
   "outputs": [],
   "source": [
    "datasetGroupArn = \"arn:aws:forecast:us-east-1:325928439752:dataset-group/util_power_forecastdemo_dsg\" # Fill in the quotes from the output of the previous notebook."
   ]
  },
  {
   "cell_type": "code",
   "execution_count": 8,
   "metadata": {},
   "outputs": [],
   "source": [
    "create_predictor_response=forecast.create_predictor(PredictorName=predictorName, \n",
    "                                                  AlgorithmArn=algorithmArn,\n",
    "                                                  ForecastHorizon=forecastHorizon,\n",
    "                                                  PerformAutoML= False,\n",
    "                                                  PerformHPO=False,\n",
    "                                                  EvaluationParameters= {\"NumberOfBacktestWindows\": 1, \n",
    "                                                                         \"BackTestWindowOffset\": 24}, \n",
    "                                                  InputDataConfig= {\"DatasetGroupArn\": datasetGroupArn},\n",
    "                                                  FeaturizationConfig= {\"ForecastFrequency\": \"H\", \n",
    "                                                                        \"Featurizations\": \n",
    "                                                                        [\n",
    "                                                                          {\"AttributeName\": \"target_value\", \n",
    "                                                                           \"FeaturizationPipeline\": \n",
    "                                                                            [\n",
    "                                                                              {\"FeaturizationMethodName\": \"filling\", \n",
    "                                                                               \"FeaturizationMethodParameters\": \n",
    "                                                                                {\"frontfill\": \"none\", \n",
    "                                                                                 \"middlefill\": \"zero\", \n",
    "                                                                                 \"backfill\": \"zero\"}\n",
    "                                                                              }\n",
    "                                                                            ]\n",
    "                                                                          }\n",
    "                                                                        ]\n",
    "                                                                       }\n",
    "                                                 )"
   ]
  },
  {
   "cell_type": "code",
   "execution_count": 9,
   "metadata": {},
   "outputs": [],
   "source": [
    "predictorArn=create_predictor_response['PredictorArn']"
   ]
  },
  {
   "cell_type": "markdown",
   "metadata": {},
   "source": [
    "Check the status of the predictor. When the status change from **CREATE_IN_PROGRESS** to **ACTIVE**, we can continue to next steps. Depending on data size, model selection and hyper parameters，it can take 10 mins to more than one hour to be **ACTIVE**."
   ]
  },
  {
   "cell_type": "code",
   "execution_count": null,
   "metadata": {},
   "outputs": [
    {
     "name": "stdout",
     "output_type": "stream",
     "text": [
      "CREATE_PENDING\n",
      "CREATE_IN_PROGRESS\n",
      "CREATE_IN_PROGRESS\n",
      "CREATE_IN_PROGRESS\n",
      "CREATE_IN_PROGRESS\n",
      "CREATE_IN_PROGRESS\n",
      "CREATE_IN_PROGRESS\n",
      "CREATE_IN_PROGRESS\n",
      "CREATE_IN_PROGRESS\n",
      "CREATE_IN_PROGRESS\n",
      "CREATE_IN_PROGRESS\n",
      "CREATE_IN_PROGRESS\n",
      "CREATE_IN_PROGRESS\n",
      "CREATE_IN_PROGRESS\n",
      "CREATE_IN_PROGRESS\n",
      "CREATE_IN_PROGRESS\n",
      "CREATE_IN_PROGRESS\n",
      "CREATE_IN_PROGRESS\n",
      "CREATE_IN_PROGRESS\n",
      "CREATE_IN_PROGRESS\n",
      "CREATE_IN_PROGRESS\n",
      "CREATE_IN_PROGRESS\n",
      "CREATE_IN_PROGRESS\n"
     ]
    }
   ],
   "source": [
    "while True:\n",
    "    predictorStatus = forecast.describe_predictor(PredictorArn=predictorArn)['Status']\n",
    "    print(predictorStatus)\n",
    "    if predictorStatus != 'ACTIVE' and predictorStatus != 'CREATE_FAILED':\n",
    "        sleep(30)\n",
    "    else:\n",
    "        break"
   ]
  },
  {
   "cell_type": "markdown",
   "metadata": {},
   "source": [
    "### Get Error Metrics"
   ]
  },
  {
   "cell_type": "code",
   "execution_count": 3,
   "metadata": {},
   "outputs": [],
   "source": [
    "#predictorArn = \"arn:aws:forecast:us-east-1:325928439752:predictor/electric_power_forecastdemo_prophet_algo\""
   ]
  },
  {
   "cell_type": "code",
   "execution_count": 7,
   "metadata": {},
   "outputs": [
    {
     "data": {
      "text/plain": [
       "{'PredictorEvaluationResults': [{'TestWindows': [{'EvaluationType': 'SUMMARY',\n",
       "     'Metrics': {'RMSE': 12.829060757375116,\n",
       "      'WeightedQuantileLosses': [{'Quantile': 0.9,\n",
       "        'LossValue': 0.07417153979298859},\n",
       "       {'Quantile': 0.5, 'LossValue': 0.1623208455868377},\n",
       "       {'Quantile': 0.1, 'LossValue': 0.05899356936870511}]}},\n",
       "    {'TestWindowStart': datetime.datetime(2014, 10, 30, 0, 0, tzinfo=tzlocal()),\n",
       "     'TestWindowEnd': datetime.datetime(2014, 10, 31, 0, 0, tzinfo=tzlocal()),\n",
       "     'ItemCount': 3,\n",
       "     'EvaluationType': 'COMPUTED',\n",
       "     'Metrics': {'RMSE': 12.829060757375116,\n",
       "      'WeightedQuantileLosses': [{'Quantile': 0.9,\n",
       "        'LossValue': 0.07417153979298859},\n",
       "       {'Quantile': 0.5, 'LossValue': 0.1623208455868377},\n",
       "       {'Quantile': 0.1, 'LossValue': 0.05899356936870511}]}}]}],\n",
       " 'ResponseMetadata': {'RequestId': '69bb5844-8c2e-46a3-b852-d70b9e33ad62',\n",
       "  'HTTPStatusCode': 200,\n",
       "  'HTTPHeaders': {'content-type': 'application/x-amz-json-1.1',\n",
       "   'date': 'Tue, 08 Oct 2019 17:52:55 GMT',\n",
       "   'x-amzn-requestid': '69bb5844-8c2e-46a3-b852-d70b9e33ad62',\n",
       "   'content-length': '603',\n",
       "   'connection': 'keep-alive'},\n",
       "  'RetryAttempts': 0}}"
      ]
     },
     "execution_count": 7,
     "metadata": {},
     "output_type": "execute_result"
    }
   ],
   "source": [
    "forecast.get_accuracy_metrics(PredictorArn=predictorArn)"
   ]
  },
  {
   "cell_type": "markdown",
   "metadata": {},
   "source": [
    "## Create a Forecast\n",
    "\n",
    "Now create a forecast using the model that was trained"
   ]
  },
  {
   "cell_type": "code",
   "execution_count": 14,
   "metadata": {},
   "outputs": [],
   "source": [
    "forecastName= project+'_prophet_algo_forecast'"
   ]
  },
  {
   "cell_type": "code",
   "execution_count": 15,
   "metadata": {},
   "outputs": [],
   "source": [
    "create_forecast_response=forecast.create_forecast(ForecastName=forecastName,\n",
    "                                                  PredictorArn=predictorArn)\n",
    "forecastArn = create_forecast_response['ForecastArn']"
   ]
  },
  {
   "cell_type": "markdown",
   "metadata": {},
   "source": [
    "Check the status of the forecast process, when the status change from **CREATE_IN_PROGRESS** to **ACTIVE**, we can continue to next steps. Depending on data size, model selection and hyper parameters，it can take 10 mins to more than one hour to be **ACTIVE**."
   ]
  },
  {
   "cell_type": "code",
   "execution_count": 16,
   "metadata": {},
   "outputs": [
    {
     "name": "stdout",
     "output_type": "stream",
     "text": [
      "CREATE_PENDING\n",
      "CREATE_IN_PROGRESS\n",
      "CREATE_IN_PROGRESS\n",
      "CREATE_IN_PROGRESS\n",
      "CREATE_IN_PROGRESS\n",
      "CREATE_IN_PROGRESS\n",
      "CREATE_IN_PROGRESS\n",
      "CREATE_IN_PROGRESS\n",
      "CREATE_IN_PROGRESS\n",
      "CREATE_IN_PROGRESS\n",
      "CREATE_IN_PROGRESS\n",
      "CREATE_IN_PROGRESS\n",
      "CREATE_IN_PROGRESS\n",
      "CREATE_IN_PROGRESS\n",
      "CREATE_IN_PROGRESS\n",
      "CREATE_IN_PROGRESS\n",
      "CREATE_IN_PROGRESS\n",
      "CREATE_IN_PROGRESS\n",
      "CREATE_IN_PROGRESS\n",
      "CREATE_IN_PROGRESS\n",
      "CREATE_IN_PROGRESS\n",
      "CREATE_IN_PROGRESS\n",
      "CREATE_IN_PROGRESS\n",
      "CREATE_IN_PROGRESS\n",
      "CREATE_IN_PROGRESS\n",
      "CREATE_IN_PROGRESS\n",
      "CREATE_IN_PROGRESS\n",
      "CREATE_IN_PROGRESS\n",
      "CREATE_IN_PROGRESS\n",
      "CREATE_IN_PROGRESS\n",
      "CREATE_IN_PROGRESS\n",
      "CREATE_IN_PROGRESS\n",
      "CREATE_IN_PROGRESS\n",
      "CREATE_IN_PROGRESS\n",
      "CREATE_IN_PROGRESS\n",
      "CREATE_IN_PROGRESS\n",
      "CREATE_IN_PROGRESS\n",
      "CREATE_IN_PROGRESS\n",
      "CREATE_IN_PROGRESS\n",
      "CREATE_IN_PROGRESS\n",
      "CREATE_IN_PROGRESS\n",
      "CREATE_IN_PROGRESS\n",
      "CREATE_IN_PROGRESS\n",
      "CREATE_IN_PROGRESS\n",
      "CREATE_IN_PROGRESS\n",
      "ACTIVE\n"
     ]
    }
   ],
   "source": [
    "while True:\n",
    "    forecastStatus = forecast.describe_forecast(ForecastArn=forecastArn)['Status']\n",
    "    print(forecastStatus)\n",
    "    if forecastStatus != 'ACTIVE' and forecastStatus != 'CREATE_FAILED':\n",
    "        sleep(30)\n",
    "    else:\n",
    "        break"
   ]
  },
  {
   "cell_type": "markdown",
   "metadata": {},
   "source": [
    "### Get Forecast"
   ]
  },
  {
   "cell_type": "markdown",
   "metadata": {},
   "source": [
    "Once created, the forecast results are ready and you view them. "
   ]
  },
  {
   "cell_type": "code",
   "execution_count": 17,
   "metadata": {},
   "outputs": [
    {
     "name": "stdout",
     "output_type": "stream",
     "text": [
      "arn:aws:forecast:us-east-1:325928439752:forecast/electric_power_forecastdemo_prophet_algo_forecast\n",
      "\n",
      "{'Forecast': {'Predictions': {'p10': [{'Timestamp': '2014-10-31T00:00:00', 'Value': 36.22185516357422}, {'Timestamp': '2014-10-31T01:00:00', 'Value': 34.557891845703125}, {'Timestamp': '2014-10-31T02:00:00', 'Value': 51.03107833862305}, {'Timestamp': '2014-10-31T03:00:00', 'Value': 48.43934631347656}, {'Timestamp': '2014-10-31T04:00:00', 'Value': 42.049537658691406}, {'Timestamp': '2014-10-31T05:00:00', 'Value': 33.205116271972656}, {'Timestamp': '2014-10-31T06:00:00', 'Value': 31.351680755615234}, {'Timestamp': '2014-10-31T07:00:00', 'Value': 44.99196243286133}, {'Timestamp': '2014-10-31T08:00:00', 'Value': 74.00486755371094}, {'Timestamp': '2014-10-31T09:00:00', 'Value': 107.83564758300781}, {'Timestamp': '2014-10-31T10:00:00', 'Value': 130.82528686523438}, {'Timestamp': '2014-10-31T11:00:00', 'Value': 130.74481201171875}, {'Timestamp': '2014-10-31T12:00:00', 'Value': 122.94788360595703}, {'Timestamp': '2014-10-31T13:00:00', 'Value': 111.45799255371094}, {'Timestamp': '2014-10-31T14:00:00', 'Value': 107.9944076538086}, {'Timestamp': '2014-10-31T15:00:00', 'Value': 108.01666259765625}, {'Timestamp': '2014-10-31T16:00:00', 'Value': 112.74417114257812}, {'Timestamp': '2014-10-31T17:00:00', 'Value': 110.24746704101562}, {'Timestamp': '2014-10-31T18:00:00', 'Value': 106.3712158203125}, {'Timestamp': '2014-10-31T19:00:00', 'Value': 90.7308349609375}, {'Timestamp': '2014-10-31T20:00:00', 'Value': 77.28824615478516}, {'Timestamp': '2014-10-31T21:00:00', 'Value': 57.78609085083008}, {'Timestamp': '2014-10-31T22:00:00', 'Value': 44.334869384765625}, {'Timestamp': '2014-10-31T23:00:00', 'Value': 37.81705856323242}], 'p50': [{'Timestamp': '2014-10-31T00:00:00', 'Value': 71.05859375}, {'Timestamp': '2014-10-31T01:00:00', 'Value': 66.25346374511719}, {'Timestamp': '2014-10-31T02:00:00', 'Value': 79.46967315673828}, {'Timestamp': '2014-10-31T03:00:00', 'Value': 76.11566162109375}, {'Timestamp': '2014-10-31T04:00:00', 'Value': 68.45625305175781}, {'Timestamp': '2014-10-31T05:00:00', 'Value': 67.36644744873047}, {'Timestamp': '2014-10-31T06:00:00', 'Value': 60.70555877685547}, {'Timestamp': '2014-10-31T07:00:00', 'Value': 73.70401000976562}, {'Timestamp': '2014-10-31T08:00:00', 'Value': 103.88387298583984}, {'Timestamp': '2014-10-31T09:00:00', 'Value': 132.91795349121094}, {'Timestamp': '2014-10-31T10:00:00', 'Value': 155.41123962402344}, {'Timestamp': '2014-10-31T11:00:00', 'Value': 159.3162841796875}, {'Timestamp': '2014-10-31T12:00:00', 'Value': 153.9385223388672}, {'Timestamp': '2014-10-31T13:00:00', 'Value': 133.93115234375}, {'Timestamp': '2014-10-31T14:00:00', 'Value': 134.4052734375}, {'Timestamp': '2014-10-31T15:00:00', 'Value': 135.47030639648438}, {'Timestamp': '2014-10-31T16:00:00', 'Value': 149.17984008789062}, {'Timestamp': '2014-10-31T17:00:00', 'Value': 148.30093383789062}, {'Timestamp': '2014-10-31T18:00:00', 'Value': 135.3919219970703}, {'Timestamp': '2014-10-31T19:00:00', 'Value': 117.98233032226562}, {'Timestamp': '2014-10-31T20:00:00', 'Value': 103.47403717041016}, {'Timestamp': '2014-10-31T21:00:00', 'Value': 90.67941284179688}, {'Timestamp': '2014-10-31T22:00:00', 'Value': 74.17617797851562}, {'Timestamp': '2014-10-31T23:00:00', 'Value': 63.9918098449707}], 'p90': [{'Timestamp': '2014-10-31T00:00:00', 'Value': 99.30429077148438}, {'Timestamp': '2014-10-31T01:00:00', 'Value': 101.38134765625}, {'Timestamp': '2014-10-31T02:00:00', 'Value': 103.30207061767578}, {'Timestamp': '2014-10-31T03:00:00', 'Value': 109.94866180419922}, {'Timestamp': '2014-10-31T04:00:00', 'Value': 103.58129119873047}, {'Timestamp': '2014-10-31T05:00:00', 'Value': 94.98564910888672}, {'Timestamp': '2014-10-31T06:00:00', 'Value': 89.8372573852539}, {'Timestamp': '2014-10-31T07:00:00', 'Value': 108.07099914550781}, {'Timestamp': '2014-10-31T08:00:00', 'Value': 134.2733917236328}, {'Timestamp': '2014-10-31T09:00:00', 'Value': 162.4317169189453}, {'Timestamp': '2014-10-31T10:00:00', 'Value': 186.8918914794922}, {'Timestamp': '2014-10-31T11:00:00', 'Value': 186.93426513671875}, {'Timestamp': '2014-10-31T12:00:00', 'Value': 183.4384307861328}, {'Timestamp': '2014-10-31T13:00:00', 'Value': 167.31578063964844}, {'Timestamp': '2014-10-31T14:00:00', 'Value': 165.2312469482422}, {'Timestamp': '2014-10-31T15:00:00', 'Value': 164.302001953125}, {'Timestamp': '2014-10-31T16:00:00', 'Value': 175.5171661376953}, {'Timestamp': '2014-10-31T17:00:00', 'Value': 172.68795776367188}, {'Timestamp': '2014-10-31T18:00:00', 'Value': 161.92849731445312}, {'Timestamp': '2014-10-31T19:00:00', 'Value': 146.70018005371094}, {'Timestamp': '2014-10-31T20:00:00', 'Value': 130.20675659179688}, {'Timestamp': '2014-10-31T21:00:00', 'Value': 115.44275665283203}, {'Timestamp': '2014-10-31T22:00:00', 'Value': 108.54203796386719}, {'Timestamp': '2014-10-31T23:00:00', 'Value': 98.6061019897461}]}}, 'ResponseMetadata': {'RequestId': '76bfac68-cdcb-45d3-9af0-a5c8ddbf994e', 'HTTPStatusCode': 200, 'HTTPHeaders': {'content-type': 'application/x-amz-json-1.1', 'date': 'Tue, 08 Oct 2019 18:16:16 GMT', 'x-amzn-requestid': '76bfac68-cdcb-45d3-9af0-a5c8ddbf994e', 'content-length': '4533', 'connection': 'keep-alive'}, 'RetryAttempts': 0}}\n"
     ]
    }
   ],
   "source": [
    "print(forecastArn)\n",
    "print()\n",
    "forecastResponse = forecastquery.query_forecast(\n",
    "    ForecastArn=forecastArn,\n",
    "    Filters={\"item_id\":\"client_12\"}\n",
    ")\n",
    "print(forecastResponse)"
   ]
  },
  {
   "cell_type": "markdown",
   "metadata": {},
   "source": [
    "## Next Steps\n",
    "\n",
    "Now that your forecast has been created, use the arn that was printed above to evaluate it in `Evaluating_Your_Predictor.ipynb`"
   ]
  },
  {
   "cell_type": "code",
   "execution_count": null,
   "metadata": {},
   "outputs": [],
   "source": []
  }
 ],
 "metadata": {
  "kernelspec": {
   "display_name": "conda_python3",
   "language": "python",
   "name": "conda_python3"
  },
  "language_info": {
   "codemirror_mode": {
    "name": "ipython",
    "version": 3
   },
   "file_extension": ".py",
   "mimetype": "text/x-python",
   "name": "python",
   "nbconvert_exporter": "python",
   "pygments_lexer": "ipython3",
   "version": "3.6.5"
  }
 },
 "nbformat": 4,
 "nbformat_minor": 4
}
